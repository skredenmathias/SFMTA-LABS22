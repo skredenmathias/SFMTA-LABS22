{
  "nbformat": 4,
  "nbformat_minor": 0,
  "metadata": {
    "colab": {
      "name": "B&G Visz.ipynb",
      "provenance": [],
      "collapsed_sections": []
    },
    "kernelspec": {
      "name": "python3",
      "display_name": "Python 3"
    }
  },
  "cells": [
    {
      "cell_type": "code",
      "metadata": {
        "id": "Uj0vafl51SKo",
        "colab_type": "code",
        "colab": {
          "base_uri": "https://localhost:8080/",
          "height": 187
        },
        "outputId": "832afa2d-a8e6-49dd-bf2d-620332c7bf60"
      },
      "source": [
        "!pip install mysql.connector"
      ],
      "execution_count": null,
      "outputs": [
        {
          "output_type": "stream",
          "text": [
            "Collecting mysql.connector\n",
            "\u001b[?25l  Downloading https://files.pythonhosted.org/packages/28/04/e40098f3730e75bbe36a338926f566ea803550a34fb50535499f4fc4787a/mysql-connector-2.2.9.tar.gz (11.9MB)\n",
            "\u001b[K     |████████████████████████████████| 11.9MB 319kB/s \n",
            "\u001b[?25hBuilding wheels for collected packages: mysql.connector\n",
            "  Building wheel for mysql.connector (setup.py) ... \u001b[?25l\u001b[?25hdone\n",
            "  Created wheel for mysql.connector: filename=mysql_connector-2.2.9-cp36-cp36m-linux_x86_64.whl size=247949 sha256=8b1806ee5eb73a8f0d730a822ca5e252011c47f3c1f3f4ea168058587e1de113\n",
            "  Stored in directory: /root/.cache/pip/wheels/8c/83/a1/f8b6d4bb1bd6208bbde1608bbfa7557504bed9eaf2ecf8c175\n",
            "Successfully built mysql.connector\n",
            "Installing collected packages: mysql.connector\n",
            "Successfully installed mysql.connector\n"
          ],
          "name": "stdout"
        }
      ]
    },
    {
      "cell_type": "code",
      "metadata": {
        "id": "0LKDToht0sQ5",
        "colab_type": "code",
        "colab": {
          "base_uri": "https://localhost:8080/",
          "height": 374
        },
        "outputId": "79ec2346-24fb-4e2a-e825-f34da2eff484"
      },
      "source": [
        "import mysql.connector\n",
        "from mysql.connector import Error\n",
        "import pandas as pd\n",
        "import seaborn as sns\n",
        "from matplotlib import pyplot as plt\n",
        "\n",
        "connection = mysql.connector.connect(host='lambdalabs22sfmta.crqoxlwn3q6h.us-east-2.rds.amazonaws.com',\n",
        "                                         database='lambdalabs22',\n",
        "                                         user='admin',\n",
        "                                         password='13YqLw2Gs3umAVNG9hVe')\n",
        "\n",
        "# Importing stops data\n",
        "stops = pd.read_csv('https://raw.githubusercontent.com/Lambda-School-Labs/sfmta-data-analysis-ds/master/datasets/route_info.csv')\n",
        "\n",
        "\n",
        "# Doing this manually, since DB with bus + nearest stop is not fully online.\n",
        "# For final code, look at 'Exploratory_Clean\"\n",
        "outbound = stops[stops['dir'] == 'Outbound']\n",
        "inbound = stops[stops['dir'] == 'Inbound']\n",
        "\n",
        "# Variables that may be user input\n",
        "rid = '1'\n",
        "datetime = ''\n",
        "i_or_o = '%_I_%'\n",
        "\n",
        "# Filter Stops DF for 1 route\n",
        "inbound = inbound[inbound['route_id'] == rid]\n",
        "outbound = outbound[outbound['route_id'] == rid]\n",
        "\n",
        "## list of route-inbound & route-outbound from stop data -> array of lat/lons\n",
        "inbound_array = inbound[['lat', 'lon', 'stopId']]\n",
        "outbound_array = outbound[['lat', 'lon', 'stopId']]\n",
        "\n",
        "# Stops Array -> Dict\n",
        "inbound_dict = inbound_array.to_dict()\n",
        "outbound_dict = outbound_array.to_dict()\n",
        "\n",
        "\n",
        "# Get dict of 'lat', 'long', 'stopId'\n",
        "list_dict = []\n",
        "\n",
        "for key, values in inbound_dict['lon'].items():\n",
        "  list_dict.append({'stop_lat': inbound_dict['lat'][key], \n",
        "                    'stop_lon': values, \n",
        "                    'stopId': inbound_dict['stopId'][key]})\n",
        "  \n",
        "## database call -> SELECT * FROM historic_location WHERE rid=route & dir CONTAINS __I (inbound) __O (outbound) -> dataframe\n",
        "cur = connection.cursor()\n",
        "sql_query = ('''SELECT id, datetime, rid, vid, secs, kph, head, lat, lon, dir\n",
        "                FROM historic_location\n",
        "                WHERE rid = %s\n",
        "                AND\n",
        "                dir LIKE %s\n",
        "                LIMIT 1000000;\n",
        "                ''')\n",
        "\n",
        "cur.execute(sql_query, (rid, i_or_o))\n",
        "\n",
        "# Create DF of pertinent columns\n",
        "# Note: df_inbound = df_key in 'Exploratory_Clean'.\n",
        "results = cur.fetchall()\n",
        "df_inbound = pd.DataFrame(results,\n",
        "                          columns=['id', 'datetime', 'rid', 'vid', 'secs',\n",
        "                                   'kph', 'head', 'lat', 'lon', 'dir'])\n",
        "\n",
        "## for loop index, row df.iterrows -> lat = row['lat'] & lon = row['lon]\n",
        "## -> pass into the function from starter code\n",
        "from math import cos, asin, sqrt\n",
        "\n",
        "# Math functions to calculate closest stop\n",
        "# Could consider importing Haversine. It may work the same or better.\n",
        "def distance(lat1, lon1, lat2, lon2, stopId):\n",
        "    p = 0.017453292519943295\n",
        "    a = 0.5 - cos((lat2-lat1)*p)/2 + cos(lat1*p)*cos(lat2*p) * (1-cos((lon2-lon1)*p)) / 2\n",
        "    return [12742 * asin(sqrt(a)), stopId]\n",
        "\n",
        "def closest(data, v):\n",
        "    return min(data, key=lambda p: distance(v['lat'],v['lon'],p['stop_lat'],p['stop_lon'], p['stopId']))\n",
        "    return c_temp[0], c_temp[1]\n",
        "\n",
        "# Add lat, long from Stops DF and StopId in calculated order to a list\n",
        "new_values = []\n",
        "## for loop index, row df.iterrows -> lat = row['lat'] & lon = row['lon]\n",
        "## -> pass into the function from starter code\n",
        "for index, row in df_inbound.iterrows():\n",
        "    lat = row['lat']\n",
        "    lon = row['lon']\n",
        "    v = {'lat': float(lat), 'lon': float(lon)}\n",
        "    new_values.append(closest(list_dict, v))\n",
        "\n",
        "\n",
        "# Make DF of new_values list\n",
        "temp_df = pd.DataFrame(new_values)\n",
        "temp_df.head()\n",
        "\n",
        "# concatenate queried DF and temp_df list\n",
        "results = pd.concat([df_inbound, temp_df], axis=1)\n",
        "\n",
        "# Sort DF by stopId and datetime\n",
        "results_sorted = results.sort_values(by=['stopId', 'datetime'])\n",
        "\n",
        "# Stretch: Isolate data for the requested route\n",
        "\n",
        "# Isolate data for the requested date\n",
        "cali1_3_29 = results_sorted.loc[(results_sorted['datetime'].dt.month==3) & (results_sorted['datetime'].dt.day==29)]\n",
        "\n",
        "# Acquire sorted list of bus stops on requested route (from API)\n",
        "# Possibly must exclude first and last stop (bus stations)\n",
        "stopIds = [13555, 13548, 13546, 13844, 13842, 13840, 13838, 13836, 13834, 13887,\n",
        "           1382, 13830, 13827, 13825, 13823, 13846, 13853, 13857, 13876, 13893,\n",
        "           13848, 13859, 13885, 16489, 16292, 16320, 16292, 16306, 16310, 14905,\n",
        "           14016, 14031, 14026, 14022, 14019, 14023, 14020, 14030, 14024, 14027,\n",
        "           14029, 14081, 14021, 14025, 14028, 14017]\n",
        "\n",
        "# Filter DF for stopIds list\n",
        "cali1_final =  cali1_3_29[cali1_3_29['stopId'].isin(stopIds)]\n",
        "\n",
        "# Sort DF by Stops order & datetime\n",
        "sorterIndex = dict(zip(stopIds,range(len(stopIds))))\n",
        "cali1_final['stopId_sorted'] = cali1_final['stopId'].map(sorterIndex)\n",
        "\n",
        "cali1_final.sort_values(['stopId_sorted', 'datetime'],ascending = [True, True], inplace = True)\n",
        "cali1_final.drop('stopId_sorted', 1, inplace = True)\n",
        "\n",
        "# Create new column containing time delta between busses\n",
        "cali1_final['difference'] = cali1_final['datetime'] - cali1_final['datetime'].shift()\n",
        "\n",
        "# Drop first row of DF due to NaN value (maybe not required)\n",
        "cali1_final = cali1_final.drop(197990)\n",
        "\n",
        "# Create a column 'difference' in minutes\n",
        "cali1_final['difference_min'] = cali1_final['difference'].astype('timedelta64[m]')"
      ],
      "execution_count": null,
      "outputs": [
        {
          "output_type": "stream",
          "text": [
            "/usr/local/lib/python3.6/dist-packages/statsmodels/tools/_testing.py:19: FutureWarning: pandas.util.testing is deprecated. Use the functions in the public API at pandas.testing instead.\n",
            "  import pandas.util.testing as tm\n",
            "/usr/local/lib/python3.6/dist-packages/ipykernel_launcher.py:120: SettingWithCopyWarning: \n",
            "A value is trying to be set on a copy of a slice from a DataFrame.\n",
            "Try using .loc[row_indexer,col_indexer] = value instead\n",
            "\n",
            "See the caveats in the documentation: https://pandas.pydata.org/pandas-docs/stable/user_guide/indexing.html#returning-a-view-versus-a-copy\n",
            "/usr/local/lib/python3.6/dist-packages/ipykernel_launcher.py:122: SettingWithCopyWarning: \n",
            "A value is trying to be set on a copy of a slice from a DataFrame\n",
            "\n",
            "See the caveats in the documentation: https://pandas.pydata.org/pandas-docs/stable/user_guide/indexing.html#returning-a-view-versus-a-copy\n",
            "/usr/local/lib/python3.6/dist-packages/pandas/core/frame.py:3997: SettingWithCopyWarning: \n",
            "A value is trying to be set on a copy of a slice from a DataFrame\n",
            "\n",
            "See the caveats in the documentation: https://pandas.pydata.org/pandas-docs/stable/user_guide/indexing.html#returning-a-view-versus-a-copy\n",
            "  errors=errors,\n",
            "/usr/local/lib/python3.6/dist-packages/ipykernel_launcher.py:126: SettingWithCopyWarning: \n",
            "A value is trying to be set on a copy of a slice from a DataFrame.\n",
            "Try using .loc[row_indexer,col_indexer] = value instead\n",
            "\n",
            "See the caveats in the documentation: https://pandas.pydata.org/pandas-docs/stable/user_guide/indexing.html#returning-a-view-versus-a-copy\n"
          ],
          "name": "stderr"
        }
      ]
    },
    {
      "cell_type": "code",
      "metadata": {
        "id": "TgcFzWNiJU9Y",
        "colab_type": "code",
        "colab": {}
      },
      "source": [
        "# For ease of typing\n",
        "df = cali1_final"
      ],
      "execution_count": null,
      "outputs": []
    },
    {
      "cell_type": "code",
      "metadata": {
        "id": "Se_GJ1XWJYDs",
        "colab_type": "code",
        "colab": {}
      },
      "source": [
        "# Removing negative outliers that don't make sense\n",
        "# Note: Could be explored to see if they make sense\n",
        "df = df[(df['difference_min']) >= 0]"
      ],
      "execution_count": null,
      "outputs": []
    },
    {
      "cell_type": "code",
      "metadata": {
        "id": "Kh-WzAsjBBFS",
        "colab_type": "code",
        "colab": {}
      },
      "source": [
        "# For ease of typing\n",
        "x = df['difference_min']"
      ],
      "execution_count": null,
      "outputs": []
    },
    {
      "cell_type": "code",
      "metadata": {
        "id": "XtKOsumpW7f_",
        "colab_type": "code",
        "colab": {
          "base_uri": "https://localhost:8080/",
          "height": 311
        },
        "outputId": "76519540-3678-4a17-e58e-32be34c3d213"
      },
      "source": [
        "### Set stylesheet\n",
        "plt.style.use('fivethirtyeight')\n",
        "\n",
        "### figure axes syntax\n",
        "fig, ax = plt.subplots()\n",
        "\n",
        "### Make the figure background color white\n",
        "fig.patch.set(facecolor='white')\n",
        "\n",
        "### put bars on the axes\n",
        "x.plot.hist(width=5, color='#ED713A', bins=23) ##ED713A #FD5A1E\n",
        "\n",
        "### Set axes background color\n",
        "ax.set(facecolor='white')\n",
        "\n",
        "### Set plot title\n",
        "ax.set_title(\"Time Between Busses on 3/29 for California 1\", fontsize=12, fontweight='bold', x=.410, y=1.0) \n",
        "\n",
        "### Set plot ylabel\n",
        "ax.set_ylabel('Number of vehicles', fontsize=9, fontweight='bold')\n",
        "\n",
        "### Set plot xlabel\n",
        "ax.set_xlabel('Minutes', fontsize=9, fontweight='bold')\n",
        "\n",
        "\n",
        "fig.show()"
      ],
      "execution_count": null,
      "outputs": [
        {
          "output_type": "display_data",
          "data": {
            "image/png": "[encoded data removed]",
            "text/plain": [
              "<Figure size 432x288 with 1 Axes>"
            ]
          },
          "metadata": {
            "tags": []
          }
        }
      ]
    },
    {
      "cell_type": "code",
      "metadata": {
        "id": "hPKrUZqi-2CI",
        "colab_type": "code",
        "colab": {
          "base_uri": "https://localhost:8080/",
          "height": 111
        },
        "outputId": "02af9ab7-d9d2-436d-8674-4caad66b157f"
      },
      "source": [
        "df_inbound.head(2)"
      ],
      "execution_count": null,
      "outputs": [
        {
          "output_type": "execute_result",
          "data": {
            "text/html": [
              "<div>\n",
              "<style scoped>\n",
              "    .dataframe tbody tr th:only-of-type {\n",
              "        vertical-align: middle;\n",
              "    }\n",
              "\n",
              "    .dataframe tbody tr th {\n",
              "        vertical-align: top;\n",
              "    }\n",
              "\n",
              "    .dataframe thead th {\n",
              "        text-align: right;\n",
              "    }\n",
              "</style>\n",
              "<table border=\"1\" class=\"dataframe\">\n",
              "  <thead>\n",
              "    <tr style=\"text-align: right;\">\n",
              "      <th></th>\n",
              "      <th>id</th>\n",
              "      <th>datetime</th>\n",
              "      <th>rid</th>\n",
              "      <th>vid</th>\n",
              "      <th>secs</th>\n",
              "      <th>kph</th>\n",
              "      <th>head</th>\n",
              "      <th>lat</th>\n",
              "      <th>lon</th>\n",
              "      <th>dir</th>\n",
              "    </tr>\n",
              "  </thead>\n",
              "  <tbody>\n",
              "    <tr>\n",
              "      <th>0</th>\n",
              "      <td>35</td>\n",
              "      <td>2020-01-20 14:52:28</td>\n",
              "      <td>1</td>\n",
              "      <td>5816</td>\n",
              "      <td>89</td>\n",
              "      <td>34</td>\n",
              "      <td>75</td>\n",
              "      <td>37.786701</td>\n",
              "      <td>-122.450996</td>\n",
              "      <td>1____I_F00</td>\n",
              "    </tr>\n",
              "    <tr>\n",
              "      <th>1</th>\n",
              "      <td>89</td>\n",
              "      <td>2020-01-20 14:52:28</td>\n",
              "      <td>1</td>\n",
              "      <td>5796</td>\n",
              "      <td>33</td>\n",
              "      <td>0</td>\n",
              "      <td>79</td>\n",
              "      <td>37.793499</td>\n",
              "      <td>-122.413002</td>\n",
              "      <td>1____I_F00</td>\n",
              "    </tr>\n",
              "  </tbody>\n",
              "</table>\n",
              "</div>"
            ],
            "text/plain": [
              "   id            datetime rid   vid  ...  head        lat          lon         dir\n",
              "0  35 2020-01-20 14:52:28   1  5816  ...    75  37.786701  -122.450996  1____I_F00\n",
              "1  89 2020-01-20 14:52:28   1  5796  ...    79  37.793499  -122.413002  1____I_F00\n",
              "\n",
              "[2 rows x 10 columns]"
            ]
          },
          "metadata": {
            "tags": []
          },
          "execution_count": 7
        }
      ]
    },
    {
      "cell_type": "code",
      "metadata": {
        "id": "6QDu6fE8-2E8",
        "colab_type": "code",
        "colab": {
          "base_uri": "https://localhost:8080/",
          "height": 111
        },
        "outputId": "b239807e-8ab9-4760-a957-dd52f117997b"
      },
      "source": [
        "stops.head(2)"
      ],
      "execution_count": null,
      "outputs": [
        {
          "output_type": "execute_result",
          "data": {
            "text/html": [
              "<div>\n",
              "<style scoped>\n",
              "    .dataframe tbody tr th:only-of-type {\n",
              "        vertical-align: middle;\n",
              "    }\n",
              "\n",
              "    .dataframe tbody tr th {\n",
              "        vertical-align: top;\n",
              "    }\n",
              "\n",
              "    .dataframe thead th {\n",
              "        text-align: right;\n",
              "    }\n",
              "</style>\n",
              "<table border=\"1\" class=\"dataframe\">\n",
              "  <thead>\n",
              "    <tr style=\"text-align: right;\">\n",
              "      <th></th>\n",
              "      <th>route_id</th>\n",
              "      <th>lat</th>\n",
              "      <th>lon</th>\n",
              "      <th>stopId</th>\n",
              "      <th>tag</th>\n",
              "      <th>title</th>\n",
              "      <th>dir</th>\n",
              "    </tr>\n",
              "  </thead>\n",
              "  <tbody>\n",
              "    <tr>\n",
              "      <th>0</th>\n",
              "      <td>E</td>\n",
              "      <td>37.80713</td>\n",
              "      <td>-122.41732</td>\n",
              "      <td>15184</td>\n",
              "      <td>5184</td>\n",
              "      <td>Jones St &amp; Beach St</td>\n",
              "      <td>Outbound</td>\n",
              "    </tr>\n",
              "    <tr>\n",
              "      <th>1</th>\n",
              "      <td>E</td>\n",
              "      <td>37.80741</td>\n",
              "      <td>-122.41412</td>\n",
              "      <td>13092</td>\n",
              "      <td>3092</td>\n",
              "      <td>Beach St &amp; Mason St</td>\n",
              "      <td>Outbound</td>\n",
              "    </tr>\n",
              "  </tbody>\n",
              "</table>\n",
              "</div>"
            ],
            "text/plain": [
              "  route_id       lat        lon  stopId   tag                title       dir\n",
              "0        E  37.80713 -122.41732   15184  5184  Jones St & Beach St  Outbound\n",
              "1        E  37.80741 -122.41412   13092  3092  Beach St & Mason St  Outbound"
            ]
          },
          "metadata": {
            "tags": []
          },
          "execution_count": 8
        }
      ]
    },
    {
      "cell_type": "code",
      "metadata": {
        "id": "Qh1ENa-j-2Le",
        "colab_type": "code",
        "colab": {
          "base_uri": "https://localhost:8080/",
          "height": 111
        },
        "outputId": "7f585711-6f27-458b-fcb6-95c465ca6488"
      },
      "source": [
        "df.head(2)"
      ],
      "execution_count": null,
      "outputs": [
        {
          "output_type": "execute_result",
          "data": {
            "text/html": [
              "<div>\n",
              "<style scoped>\n",
              "    .dataframe tbody tr th:only-of-type {\n",
              "        vertical-align: middle;\n",
              "    }\n",
              "\n",
              "    .dataframe tbody tr th {\n",
              "        vertical-align: top;\n",
              "    }\n",
              "\n",
              "    .dataframe thead th {\n",
              "        text-align: right;\n",
              "    }\n",
              "</style>\n",
              "<table border=\"1\" class=\"dataframe\">\n",
              "  <thead>\n",
              "    <tr style=\"text-align: right;\">\n",
              "      <th></th>\n",
              "      <th>id</th>\n",
              "      <th>datetime</th>\n",
              "      <th>rid</th>\n",
              "      <th>vid</th>\n",
              "      <th>secs</th>\n",
              "      <th>kph</th>\n",
              "      <th>head</th>\n",
              "      <th>lat</th>\n",
              "      <th>lon</th>\n",
              "      <th>dir</th>\n",
              "      <th>stop_lat</th>\n",
              "      <th>stop_lon</th>\n",
              "      <th>stopId</th>\n",
              "      <th>difference</th>\n",
              "      <th>difference_min</th>\n",
              "    </tr>\n",
              "  </thead>\n",
              "  <tbody>\n",
              "    <tr>\n",
              "      <th>198052</th>\n",
              "      <td>11939142</td>\n",
              "      <td>2020-03-29 14:54:38</td>\n",
              "      <td>1</td>\n",
              "      <td>5771</td>\n",
              "      <td>8</td>\n",
              "      <td>35</td>\n",
              "      <td>0</td>\n",
              "      <td>37.781399</td>\n",
              "      <td>-122.492996</td>\n",
              "      <td>1____I_F00</td>\n",
              "      <td>37.78154</td>\n",
              "      <td>-122.49335</td>\n",
              "      <td>13555</td>\n",
              "      <td>00:17:20</td>\n",
              "      <td>17.0</td>\n",
              "    </tr>\n",
              "    <tr>\n",
              "      <th>198088</th>\n",
              "      <td>11941397</td>\n",
              "      <td>2020-03-29 15:02:46</td>\n",
              "      <td>1</td>\n",
              "      <td>5842</td>\n",
              "      <td>25</td>\n",
              "      <td>16</td>\n",
              "      <td>345</td>\n",
              "      <td>37.781300</td>\n",
              "      <td>-122.492996</td>\n",
              "      <td>1____I_F00</td>\n",
              "      <td>37.78154</td>\n",
              "      <td>-122.49335</td>\n",
              "      <td>13555</td>\n",
              "      <td>00:08:08</td>\n",
              "      <td>8.0</td>\n",
              "    </tr>\n",
              "  </tbody>\n",
              "</table>\n",
              "</div>"
            ],
            "text/plain": [
              "              id            datetime rid  ...  stopId  difference  difference_min\n",
              "198052  11939142 2020-03-29 14:54:38   1  ...   13555    00:17:20            17.0\n",
              "198088  11941397 2020-03-29 15:02:46   1  ...   13555    00:08:08             8.0\n",
              "\n",
              "[2 rows x 15 columns]"
            ]
          },
          "metadata": {
            "tags": []
          },
          "execution_count": 9
        }
      ]
    },
    {
      "cell_type": "code",
      "metadata": {
        "id": "uyjhsC6RBFar",
        "colab_type": "code",
        "colab": {}
      },
      "source": [
        "# Notes on how to proceed\n",
        "\n",
        "## Plot B&G\n",
        "# Add schedule to dataset\n",
        "# Define B&G for that data\n",
        "## Note: changes across the day\n",
        "# Make new column with 0/1/2 for Neutral/B/G??\n",
        "# Plot the new column\n",
        "# See: https://muni.opentransit.city/route/1/1/14277/14017 (Service Frequency)"
      ],
      "execution_count": null,
      "outputs": []
    }
  ]
}